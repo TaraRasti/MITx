{
  "nbformat": 4,
  "nbformat_minor": 0,
  "metadata": {
    "kernelspec": {
      "display_name": "Python 3",
      "language": "python",
      "name": "python3"
    },
    "language_info": {
      "codemirror_mode": {
        "name": "ipython",
        "version": 3
      },
      "file_extension": ".py",
      "mimetype": "text/x-python",
      "name": "python",
      "nbconvert_exporter": "python",
      "pygments_lexer": "ipython3",
      "version": "3.7.6"
    },
    "colab": {
      "name": "Project0.ipynb",
      "provenance": [],
      "include_colab_link": true
    }
  },
  "cells": [
    {
      "cell_type": "markdown",
      "metadata": {
        "id": "view-in-github",
        "colab_type": "text"
      },
      "source": [
        "<a href=\"https://colab.research.google.com/github/TaraRasti/MITx/blob/main/Machine%20Learning%20with%20Python-From%20Linear%20Models%20to%20Deep%20Learning/Project0.ipynb\" target=\"_parent\"><img src=\"https://colab.research.google.com/assets/colab-badge.svg\" alt=\"Open In Colab\"/></a>"
      ]
    },
    {
      "cell_type": "code",
      "metadata": {
        "id": "2i57Zgv5DOFy"
      },
      "source": [
        "import numpy as np"
      ],
      "execution_count": null,
      "outputs": []
    },
    {
      "cell_type": "code",
      "metadata": {
        "id": "DtDDDOLPDOF1"
      },
      "source": [
        "def randomization(n):\n",
        "    \"\"\"\n",
        "    Arg:\n",
        "      n - an integer\n",
        "    Returns:\n",
        "      A - a randomly-generated nx1 Numpy array.\n",
        "    \"\"\"\n",
        "    #Your code here\n",
        "    A = np.random.random([n,1])\n",
        "    return A\n",
        "    raise NotImplementedError"
      ],
      "execution_count": null,
      "outputs": []
    },
    {
      "cell_type": "code",
      "metadata": {
        "id": "yXuFQX9iDOF1"
      },
      "source": [
        "def operations(h, w):\n",
        "    \"\"\"\n",
        "    Takes two inputs, h and w, and makes two Numpy arrays A and B of size\n",
        "    h x w, and returns A, B, and s, the sum of A and B.\n",
        "\n",
        "    Arg:\n",
        "      h - an integer describing the height of A and B\n",
        "      w - an integer describing the width of A and B\n",
        "    Returns (in this order):\n",
        "      A - a randomly-generated h x w Numpy array.\n",
        "      B - a randomly-generated h x w Numpy array.\n",
        "      s - the sum of A and B.\n",
        "    \"\"\"\n",
        "    #Your code here\n",
        "    A = np.random.random([h,w])\n",
        "    B = np.random.random([h,w])\n",
        "    s = A + B\n",
        "    return A, B, s\n",
        "    raise NotImplementedError"
      ],
      "execution_count": null,
      "outputs": []
    },
    {
      "cell_type": "code",
      "metadata": {
        "id": "ifCVnLrNDOF2"
      },
      "source": [
        "def norm(A, B):\n",
        "    \"\"\"\n",
        "    Takes two Numpy column arrays, A and B, and returns the L2 norm of their\n",
        "    sum.\n",
        "\n",
        "    Arg:\n",
        "      A - a Numpy array\n",
        "      B - a Numpy array\n",
        "    Returns:\n",
        "      s - the L2 norm of A+B.\n",
        "    \"\"\"\n",
        "    #Your code here\n",
        "    s = np.linalg.norm(A+B)\n",
        "    return s\n",
        "    raise NotImplementedError"
      ],
      "execution_count": null,
      "outputs": []
    },
    {
      "cell_type": "code",
      "metadata": {
        "id": "OXKMBMlJDOF2"
      },
      "source": [
        "def neural_network(inputs, weights):\n",
        "    \"\"\"\n",
        "     Takes an input vector and runs it through a 1-layer neural network\n",
        "     with a given weight matrix and returns the output.\n",
        "\n",
        "     Arg:\n",
        "       inputs - 2 x 1 NumPy array\n",
        "       weights - 2 x 1 NumPy array\n",
        "     Returns (in this order):\n",
        "       out - a 1 x 1 NumPy array, representing the output of the neural network\n",
        "    \"\"\"\n",
        "    #Your code here\n",
        "    out = np.tanh(np.matmul(np.transpose(weights),inputs))\n",
        "    return out\n",
        "    raise NotImplementedError"
      ],
      "execution_count": null,
      "outputs": []
    },
    {
      "cell_type": "markdown",
      "metadata": {
        "id": "2glT9QMYDOF3"
      },
      "source": [
        "A scalar function scalar_function will apply the following operation with input x and y.\n",
        "\n",
        "f(x,y)=𝑥⋅𝑦, if 𝑥≤𝑦\n",
        "\n",
        "f(x,y)=𝑥/𝑦, else\n",
        " \n",
        "Note that x and y are scalars."
      ]
    },
    {
      "cell_type": "code",
      "metadata": {
        "id": "IlGWPNKVDOF-"
      },
      "source": [
        "def scalar_function(x, y):\n",
        "    \"\"\"\n",
        "    Returns the f(x,y) defined in the problem statement.\n",
        "    \"\"\"\n",
        "\n",
        "    #Your code here\n",
        "    if x<=y:\n",
        "        return x*y\n",
        "    else:\n",
        "        return x/y\n",
        "    raise NotImplementedError"
      ],
      "execution_count": null,
      "outputs": []
    },
    {
      "cell_type": "markdown",
      "metadata": {
        "id": "5XbOw2u_DOF_"
      },
      "source": [
        "Please write a vector function vector_function, which will apply the operation  𝑓(𝑥,𝑦)  defined above element-wisely with input vectors with same dimension x and y.\n",
        "\n"
      ]
    },
    {
      "cell_type": "code",
      "metadata": {
        "id": "e8MuqiruDOF_"
      },
      "source": [
        "def vector_function(x, y):\n",
        "    \"\"\"\n",
        "    Make sure vector_function can deal with vector input x,y \n",
        "    \"\"\"\n",
        "    #Your code here \n",
        "    vfunc = np.vectorize(scalar_function)\n",
        "    return vfunc(x,y)\n",
        "    raise NotImplementedError"
      ],
      "execution_count": null,
      "outputs": []
    }
  ]
}